{
  "nbformat": 4,
  "nbformat_minor": 0,
  "metadata": {
    "colab": {
      "name": "First_Collab_Tutorial.ipynb",
      "provenance": [],
      "collapsed_sections": [],
      "authorship_tag": "ABX9TyNKj2smyEXlxJKB2/QyflxE",
      "include_colab_link": true
    },
    "kernelspec": {
      "name": "python3",
      "display_name": "Python 3"
    }
  },
  "cells": [
    {
      "cell_type": "markdown",
      "metadata": {
        "id": "view-in-github",
        "colab_type": "text"
      },
      "source": [
        "<a href=\"https://colab.research.google.com/github/AkshayKumar31/hello-world/blob/master/First_Collab_Tutorial.ipynb\" target=\"_parent\"><img src=\"https://colab.research.google.com/assets/colab-badge.svg\" alt=\"Open In Colab\"/></a>"
      ]
    },
    {
      "cell_type": "code",
      "metadata": {
        "colab": {
          "base_uri": "https://localhost:8080/"
        },
        "id": "Y8iHDIiXXEXX",
        "outputId": "97041f12-cb69-4a29-b2f9-a7090b11d259"
      },
      "source": [
        "import time\r\n",
        "print(time.ctime())\r\n"
      ],
      "execution_count": 9,
      "outputs": [
        {
          "output_type": "stream",
          "text": [
            "Tue Feb  2 13:08:45 2021\n"
          ],
          "name": "stdout"
        }
      ]
    },
    {
      "cell_type": "code",
      "metadata": {
        "colab": {
          "base_uri": "https://localhost:8080/"
        },
        "id": "g5Q7shcyZKrn",
        "outputId": "8a763bc7-8601-458c-c3b9-90b9d7cd62aa"
      },
      "source": [
        "time.sleep(5)\r\n",
        "print (time.ctime())"
      ],
      "execution_count": 8,
      "outputs": [
        {
          "output_type": "stream",
          "text": [
            "Tue Feb  2 12:13:30 2021\n"
          ],
          "name": "stdout"
        }
      ]
    },
    {
      "cell_type": "markdown",
      "metadata": {
        "id": "3_3dv_q_3SrJ"
      },
      "source": [
        "$\\sqrt{3x-1}+(1+x)^2$\r\n"
      ]
    },
    {
      "cell_type": "markdown",
      "metadata": {
        "id": "Enz2_gq03dYv"
      },
      "source": [
        "$e^x = \\sum_{i = 0}^\\infty \\frac{1}{i!}x^i$\r\n"
      ]
    },
    {
      "cell_type": "markdown",
      "metadata": {
        "id": "1nIC15XC6Xyk"
      },
      "source": [
        "Constraints are\r\n",
        "   - $3x_1 + 6x_2 + x_3 =< 28$\r\n",
        "   - $7x_1 + 3x_2 + 2x_3 =< 37$\r\n",
        "   - $4x_1 + 5x_2 + 2x_3 =< 19$\r\n",
        "   - $x_1,x_2,x_3 >=0 $\r\n",
        "\r\n",
        "The trial vector is calculated as follows:\r\n",
        "- $u_i(t) = x_i(t) + \\beta(\\hat{x}(t) − x_i(t)) + \\beta \\sum_{k = 1}^{n_v}(x_{i1,k}(t) − x_{i2,k}(t))$\r\n",
        "$f(x_1, x_2) = 20 + e - 20exp(-0.2 \\sqrt {\\frac {1}{n} (x_1^2 + x_2^2)}) - exp (\\frac {1}{n}(cos(2\\pi x_1) + cos(2\\pi x_2))$\r\n",
        "\r\n",
        "$x ∈ [-5, 5]$\r\n",
        ">$A_{m,n} =\r\n",
        "   \\begin{pmatrix}\r\n",
        "   a_{1,1} > a_{1,2} > \\cdots > a_{1,n} \\\\\r\n",
        "   a_{2,1} > a_{2,2} > \\cdots > a_{2,n} \\\\\r\n",
        "   \\vdots > \\vdots > \\ddots > \\vdots \\\\\r\n",
        "   a_{m,1} > a_{m,2} > \\cdots > a_{m,n}\r\n",
        "   \\end{pmatrix}$\r\n",
        "   "
      ]
    }
  ]
}